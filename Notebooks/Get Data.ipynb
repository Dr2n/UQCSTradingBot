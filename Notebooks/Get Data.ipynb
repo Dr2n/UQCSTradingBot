{
 "cells": [
  {
   "cell_type": "code",
   "execution_count": null,
   "metadata": {},
   "outputs": [],
   "source": []
  },
  {
   "cell_type": "markdown",
   "metadata": {},
   "source": [
    "https://medium.com/swlh/retrieving-full-historical-data-for-every-cryptocurrency-on-binance-bitmex-using-the-python-apis-27b47fd8137f"
   ]
  },
  {
   "cell_type": "code",
   "execution_count": 3,
   "metadata": {},
   "outputs": [],
   "source": [
    "import pandas as pd\n",
    "import math\n",
    "import os.path\n",
    "import time\n",
    "from bitmex import bitmex\n",
    "from datetime import timedelta, datetime\n",
    "from dateutil import parser\n",
    "from tqdm import tqdm_notebook #(Optional, used for progress-bars)\n",
    "import tqdm\n",
    "import backtrader as bt\n",
    "from ccxtbt import CCXTStore, CCXTFeed\n",
    "import backtrader as bt\n",
    "from datetime import datetime, timedelta\n",
    "import json\n",
    "import ccxt\n",
    "import pprint"
   ]
  },
  {
   "cell_type": "code",
   "execution_count": 4,
   "metadata": {},
   "outputs": [],
   "source": [
    "### API\n",
    "bitmex_api_key = 'PUNPhX0cNSinQ7Zv4TRAETdx'    #Enter your own API-key here\n",
    "bitmex_api_secret = 'duc5b9JxLy68Oza_9cfv6I8HztwaYFSOdETWmOYOCojFtGv7' #Enter your own API-secret here"
   ]
  },
  {
   "cell_type": "code",
   "execution_count": 5,
   "metadata": {},
   "outputs": [
    {
     "name": "stderr",
     "output_type": "stream",
     "text": [
      "/home/james/anaconda3/lib/python3.8/site-packages/swagger_spec_validator/validator20.py:49: SwaggerValidationWarning: Found \"$ref: #/definitions/UserPreferences\" with siblings that will be overwritten. See https://stackoverflow.com/a/48114924 for more information. (path #/definitions/User/properties/preferences)\n",
      "  warnings.warn(\n"
     ]
    }
   ],
   "source": [
    "### CONSTANTS\n",
    "binsizes = {\"1m\": 1, \"5m\": 5, \"1h\": 60, \"1d\": 1440}\n",
    "batch_size = 750\n",
    "bitmex_client = bitmex(test=True, api_key=bitmex_api_key, api_secret=bitmex_api_secret)"
   ]
  },
  {
   "cell_type": "code",
   "execution_count": 11,
   "metadata": {},
   "outputs": [],
   "source": [
    "\n",
    "def get_all_bitmex(symbol, kline_size, start_datetime, end_datetime, save = False):\n",
    "    filename = 'Fa%s-%s-data.csv' % (symbol, kline_size)\n",
    "    if os.path.isfile(filename): \n",
    "        data_df = pd.read_csv(filename)\n",
    "        return data_df\n",
    "    else: \n",
    "        data_df = pd.DataFrame()\n",
    "        \n",
    "    delta_min = (end_datetime - start_datetime).total_seconds() / 60 # number of mins\n",
    "    \n",
    "    available_data = math.ceil(delta_min/binsizes[kline_size])\n",
    "    \n",
    "    \n",
    "    rounds = math.ceil(available_data / batch_size)\n",
    "    \n",
    "    if rounds > 0:\n",
    "        print('Downloading %d minutes of new data available for %s, i.e. %d instances of %s data in %d rounds.' % (delta_min, symbol, available_data, kline_size, rounds))\n",
    "        for round_num in tqdm_notebook(range(rounds)):\n",
    "            time.sleep(1)\n",
    "            new_time = (start_datetime + timedelta(minutes = round_num * batch_size * binsizes[kline_size]))\n",
    "            \n",
    "            data = bitmex_client.Trade.Trade_getBucketed(symbol=symbol, binSize=kline_size, count=batch_size, startTime = new_time).result()[0]\n",
    "            \n",
    "            temp_df = pd.DataFrame(data)\n",
    "            data_df = data_df.append(temp_df)\n",
    "            \n",
    "    data_df[\"time\"] = data_df[\"timestamp\"].dt.time\n",
    "    data_df[\"timestamp\"] = data_df[\"timestamp\"].astype(str).str[:-6]\n",
    "    data_df = data_df.rename(columns={'timestamp': 'datetime', \"vwap\": \"openinterest\"})\n",
    "    data_df.set_index('datetime', inplace=True)\n",
    "    data_df = data_df.drop([\"symbol\", \"trades\"],axis=1)\n",
    "    \n",
    "    if save and rounds > 0: \n",
    "        data_df.to_csv(filename)\n",
    "    print('All caught up..!')\n",
    "    \n",
    "    return data_df"
   ]
  },
  {
   "cell_type": "code",
   "execution_count": 12,
   "metadata": {},
   "outputs": [
    {
     "name": "stdout",
     "output_type": "stream",
     "text": [
      "Downloading 262079 minutes of new data available for XBTUSD, i.e. 262080 instances of 1m data in 350 rounds.\n"
     ]
    },
    {
     "name": "stderr",
     "output_type": "stream",
     "text": [
      "<ipython-input-11-90c7f4c3ed9c>:18: TqdmDeprecationWarning: This function will be removed in tqdm==5.0.0\n",
      "Please use `tqdm.notebook.tqdm` instead of `tqdm.tqdm_notebook`\n",
      "  for round_num in tqdm_notebook(range(rounds)):\n"
     ]
    },
    {
     "data": {
      "application/vnd.jupyter.widget-view+json": {
       "model_id": "c154e739bc5743ef83ff19d5ab33954d",
       "version_major": 2,
       "version_minor": 0
      },
      "text/plain": [
       "HBox(children=(FloatProgress(value=0.0, max=350.0), HTML(value='')))"
      ]
     },
     "metadata": {},
     "output_type": "display_data"
    },
    {
     "name": "stdout",
     "output_type": "stream",
     "text": [
      "\n",
      "All caught up..!\n"
     ]
    }
   ],
   "source": [
    "start_datetime = datetime(2020, 1, 1, 0, 0, 0, 0)\n",
    "end_datetime = datetime(2020, 6, 30, 23, 59, 59, 0)\n",
    "\n",
    "\n",
    "bitmex_symbols = [\"XBTUSD\"]\n",
    "datas = []\n",
    "for symbol in bitmex_symbols:\n",
    "    datas.append(get_all_bitmex(symbol, '1m', start_datetime, end_datetime, save = True))"
   ]
  },
  {
   "cell_type": "code",
   "execution_count": 137,
   "metadata": {},
   "outputs": [
    {
     "data": {
      "text/html": [
       "<div>\n",
       "<style scoped>\n",
       "    .dataframe tbody tr th:only-of-type {\n",
       "        vertical-align: middle;\n",
       "    }\n",
       "\n",
       "    .dataframe tbody tr th {\n",
       "        vertical-align: top;\n",
       "    }\n",
       "\n",
       "    .dataframe thead th {\n",
       "        text-align: right;\n",
       "    }\n",
       "</style>\n",
       "<table border=\"1\" class=\"dataframe\">\n",
       "  <thead>\n",
       "    <tr style=\"text-align: right;\">\n",
       "      <th></th>\n",
       "      <th>open</th>\n",
       "      <th>high</th>\n",
       "      <th>low</th>\n",
       "      <th>close</th>\n",
       "      <th>volume</th>\n",
       "      <th>openinterest</th>\n",
       "      <th>lastSize</th>\n",
       "      <th>turnover</th>\n",
       "      <th>homeNotional</th>\n",
       "      <th>foreignNotional</th>\n",
       "      <th>time</th>\n",
       "    </tr>\n",
       "    <tr>\n",
       "      <th>datetime</th>\n",
       "      <th></th>\n",
       "      <th></th>\n",
       "      <th></th>\n",
       "      <th></th>\n",
       "      <th></th>\n",
       "      <th></th>\n",
       "      <th></th>\n",
       "      <th></th>\n",
       "      <th></th>\n",
       "      <th></th>\n",
       "      <th></th>\n",
       "    </tr>\n",
       "  </thead>\n",
       "  <tbody>\n",
       "    <tr>\n",
       "      <th>2020-05-25 00:00:00</th>\n",
       "      <td>8599.0</td>\n",
       "      <td>8599.0</td>\n",
       "      <td>8565.5</td>\n",
       "      <td>8582.0</td>\n",
       "      <td>69877</td>\n",
       "      <td>8566.7780</td>\n",
       "      <td>100.0</td>\n",
       "      <td>815689104</td>\n",
       "      <td>8.156891</td>\n",
       "      <td>69877.0</td>\n",
       "      <td>00:00:00</td>\n",
       "    </tr>\n",
       "    <tr>\n",
       "      <th>2020-05-25 00:01:00</th>\n",
       "      <td>8582.0</td>\n",
       "      <td>8581.5</td>\n",
       "      <td>8533.0</td>\n",
       "      <td>8533.0</td>\n",
       "      <td>43479</td>\n",
       "      <td>8552.8567</td>\n",
       "      <td>2.0</td>\n",
       "      <td>508377808</td>\n",
       "      <td>5.083778</td>\n",
       "      <td>43479.0</td>\n",
       "      <td>00:01:00</td>\n",
       "    </tr>\n",
       "    <tr>\n",
       "      <th>2020-05-25 00:02:00</th>\n",
       "      <td>8533.0</td>\n",
       "      <td>8534.5</td>\n",
       "      <td>8532.0</td>\n",
       "      <td>8534.0</td>\n",
       "      <td>2629</td>\n",
       "      <td>8534.6078</td>\n",
       "      <td>881.0</td>\n",
       "      <td>30806573</td>\n",
       "      <td>0.308066</td>\n",
       "      <td>2629.0</td>\n",
       "      <td>00:02:00</td>\n",
       "    </tr>\n",
       "    <tr>\n",
       "      <th>2020-05-25 00:03:00</th>\n",
       "      <td>8534.0</td>\n",
       "      <td>8534.5</td>\n",
       "      <td>8510.0</td>\n",
       "      <td>8534.0</td>\n",
       "      <td>20076</td>\n",
       "      <td>8524.4225</td>\n",
       "      <td>500.0</td>\n",
       "      <td>235530297</td>\n",
       "      <td>2.355303</td>\n",
       "      <td>20076.0</td>\n",
       "      <td>00:03:00</td>\n",
       "    </tr>\n",
       "    <tr>\n",
       "      <th>2020-05-25 00:04:00</th>\n",
       "      <td>8534.0</td>\n",
       "      <td>8534.5</td>\n",
       "      <td>8534.0</td>\n",
       "      <td>8534.0</td>\n",
       "      <td>2805</td>\n",
       "      <td>8534.6078</td>\n",
       "      <td>1500.0</td>\n",
       "      <td>32868585</td>\n",
       "      <td>0.328686</td>\n",
       "      <td>2805.0</td>\n",
       "      <td>00:04:00</td>\n",
       "    </tr>\n",
       "    <tr>\n",
       "      <th>...</th>\n",
       "      <td>...</td>\n",
       "      <td>...</td>\n",
       "      <td>...</td>\n",
       "      <td>...</td>\n",
       "      <td>...</td>\n",
       "      <td>...</td>\n",
       "      <td>...</td>\n",
       "      <td>...</td>\n",
       "      <td>...</td>\n",
       "      <td>...</td>\n",
       "      <td>...</td>\n",
       "    </tr>\n",
       "    <tr>\n",
       "      <th>2020-06-01 06:55:00</th>\n",
       "      <td>9591.5</td>\n",
       "      <td>9592.0</td>\n",
       "      <td>9587.0</td>\n",
       "      <td>9587.0</td>\n",
       "      <td>1356</td>\n",
       "      <td>9591.4061</td>\n",
       "      <td>16.0</td>\n",
       "      <td>14138529</td>\n",
       "      <td>0.141385</td>\n",
       "      <td>1356.0</td>\n",
       "      <td>06:55:00</td>\n",
       "    </tr>\n",
       "    <tr>\n",
       "      <th>2020-06-01 06:56:00</th>\n",
       "      <td>9587.0</td>\n",
       "      <td>9587.5</td>\n",
       "      <td>9587.0</td>\n",
       "      <td>9587.0</td>\n",
       "      <td>840</td>\n",
       "      <td>9587.7277</td>\n",
       "      <td>66.0</td>\n",
       "      <td>8761777</td>\n",
       "      <td>0.087618</td>\n",
       "      <td>840.0</td>\n",
       "      <td>06:56:00</td>\n",
       "    </tr>\n",
       "    <tr>\n",
       "      <th>2020-06-01 06:57:00</th>\n",
       "      <td>9587.0</td>\n",
       "      <td>9587.5</td>\n",
       "      <td>9587.0</td>\n",
       "      <td>9587.5</td>\n",
       "      <td>204</td>\n",
       "      <td>9587.7277</td>\n",
       "      <td>4.0</td>\n",
       "      <td>2127722</td>\n",
       "      <td>0.021277</td>\n",
       "      <td>204.0</td>\n",
       "      <td>06:57:00</td>\n",
       "    </tr>\n",
       "    <tr>\n",
       "      <th>2020-06-01 06:58:00</th>\n",
       "      <td>9587.5</td>\n",
       "      <td>9587.5</td>\n",
       "      <td>9582.0</td>\n",
       "      <td>9587.0</td>\n",
       "      <td>2655</td>\n",
       "      <td>9586.8086</td>\n",
       "      <td>32.0</td>\n",
       "      <td>27694520</td>\n",
       "      <td>0.276945</td>\n",
       "      <td>2655.0</td>\n",
       "      <td>06:58:00</td>\n",
       "    </tr>\n",
       "    <tr>\n",
       "      <th>2020-06-01 06:59:00</th>\n",
       "      <td>9587.0</td>\n",
       "      <td>9587.5</td>\n",
       "      <td>9587.0</td>\n",
       "      <td>9587.5</td>\n",
       "      <td>869</td>\n",
       "      <td>9587.7277</td>\n",
       "      <td>68.0</td>\n",
       "      <td>9063986</td>\n",
       "      <td>0.090640</td>\n",
       "      <td>869.0</td>\n",
       "      <td>06:59:00</td>\n",
       "    </tr>\n",
       "  </tbody>\n",
       "</table>\n",
       "<p>10500 rows × 11 columns</p>\n",
       "</div>"
      ],
      "text/plain": [
       "                       open    high     low   close  volume  openinterest  \\\n",
       "datetime                                                                    \n",
       "2020-05-25 00:00:00  8599.0  8599.0  8565.5  8582.0   69877     8566.7780   \n",
       "2020-05-25 00:01:00  8582.0  8581.5  8533.0  8533.0   43479     8552.8567   \n",
       "2020-05-25 00:02:00  8533.0  8534.5  8532.0  8534.0    2629     8534.6078   \n",
       "2020-05-25 00:03:00  8534.0  8534.5  8510.0  8534.0   20076     8524.4225   \n",
       "2020-05-25 00:04:00  8534.0  8534.5  8534.0  8534.0    2805     8534.6078   \n",
       "...                     ...     ...     ...     ...     ...           ...   \n",
       "2020-06-01 06:55:00  9591.5  9592.0  9587.0  9587.0    1356     9591.4061   \n",
       "2020-06-01 06:56:00  9587.0  9587.5  9587.0  9587.0     840     9587.7277   \n",
       "2020-06-01 06:57:00  9587.0  9587.5  9587.0  9587.5     204     9587.7277   \n",
       "2020-06-01 06:58:00  9587.5  9587.5  9582.0  9587.0    2655     9586.8086   \n",
       "2020-06-01 06:59:00  9587.0  9587.5  9587.0  9587.5     869     9587.7277   \n",
       "\n",
       "                     lastSize   turnover  homeNotional  foreignNotional  \\\n",
       "datetime                                                                  \n",
       "2020-05-25 00:00:00     100.0  815689104      8.156891          69877.0   \n",
       "2020-05-25 00:01:00       2.0  508377808      5.083778          43479.0   \n",
       "2020-05-25 00:02:00     881.0   30806573      0.308066           2629.0   \n",
       "2020-05-25 00:03:00     500.0  235530297      2.355303          20076.0   \n",
       "2020-05-25 00:04:00    1500.0   32868585      0.328686           2805.0   \n",
       "...                       ...        ...           ...              ...   \n",
       "2020-06-01 06:55:00      16.0   14138529      0.141385           1356.0   \n",
       "2020-06-01 06:56:00      66.0    8761777      0.087618            840.0   \n",
       "2020-06-01 06:57:00       4.0    2127722      0.021277            204.0   \n",
       "2020-06-01 06:58:00      32.0   27694520      0.276945           2655.0   \n",
       "2020-06-01 06:59:00      68.0    9063986      0.090640            869.0   \n",
       "\n",
       "                         time  \n",
       "datetime                       \n",
       "2020-05-25 00:00:00  00:00:00  \n",
       "2020-05-25 00:01:00  00:01:00  \n",
       "2020-05-25 00:02:00  00:02:00  \n",
       "2020-05-25 00:03:00  00:03:00  \n",
       "2020-05-25 00:04:00  00:04:00  \n",
       "...                       ...  \n",
       "2020-06-01 06:55:00  06:55:00  \n",
       "2020-06-01 06:56:00  06:56:00  \n",
       "2020-06-01 06:57:00  06:57:00  \n",
       "2020-06-01 06:58:00  06:58:00  \n",
       "2020-06-01 06:59:00  06:59:00  \n",
       "\n",
       "[10500 rows x 11 columns]"
      ]
     },
     "execution_count": 137,
     "metadata": {},
     "output_type": "execute_result"
    }
   ],
   "source": [
    "datas[0]"
   ]
  },
  {
   "cell_type": "code",
   "execution_count": 59,
   "metadata": {},
   "outputs": [],
   "source": [
    " broker_mapping = {\n",
    "    'order_types': {\n",
    "        bt.Order.Market: 'market',\n",
    "        bt.Order.Limit: 'limit',\n",
    "        bt.Order.Stop: 'stop',\n",
    "        bt.Order.StopLimit: 'stop limit'\n",
    "    },\n",
    "    'mappings':{\n",
    "        'closed_order':{\n",
    "            'key': 'status',\n",
    "            'value':'closed'\n",
    "        },\n",
    "        'canceled_order':{\n",
    "            'key': 'result',\n",
    "            'value':1}\n",
    "    }\n",
    "}\n",
    "\n",
    "config = {'urls': {'api': 'https://testnet.bitmex.com'},\n",
    "                   'apiKey': \"PUNPhX0cNSinQ7Zv4TRAETdx\",\n",
    "                   'secret': \"duc5b9JxLy68Oza_9cfv6I8HztwaYFSOdETWmOYOCojFtGv7\",\n",
    "                   'enableRateLimit': True,\n",
    "                  }\n"
   ]
  },
  {
   "cell_type": "code",
   "execution_count": 60,
   "metadata": {},
   "outputs": [
    {
     "name": "stdout",
     "output_type": "stream",
     "text": [
      "{'BTC': {'free': 0.00847194,\n",
      "         'total': 0.00892938,\n",
      "         'used': 0.00045743999999999993},\n",
      " 'free': {'BTC': 0.00847194},\n",
      " 'info': [{'account': 319315,\n",
      "           'action': '',\n",
      "           'amount': 843285,\n",
      "           'availableMargin': 847194,\n",
      "           'commission': None,\n",
      "           'confirmedDebit': 0,\n",
      "           'currency': 'XBt',\n",
      "           'excessMargin': 847194,\n",
      "           'excessMarginPcnt': 0.434,\n",
      "           'grossComm': 181349,\n",
      "           'grossExecCost': 0,\n",
      "           'grossLastValue': 1952200,\n",
      "           'grossMarkValue': 1952200,\n",
      "           'grossOpenCost': 0,\n",
      "           'grossOpenPremium': 0,\n",
      "           'indicativeTax': 0,\n",
      "           'initMargin': 0,\n",
      "           'maintMargin': 45744,\n",
      "           'marginBalance': 892938,\n",
      "           'marginBalancePcnt': 0.4574,\n",
      "           'marginLeverage': 2.186266011749976,\n",
      "           'marginUsedPcnt': 0.0512,\n",
      "           'pendingCredit': 0,\n",
      "           'pendingDebit': 0,\n",
      "           'prevRealisedPnl': -23598,\n",
      "           'prevState': '',\n",
      "           'prevUnrealisedPnl': 0,\n",
      "           'realisedPnl': 29053,\n",
      "           'riskLimit': 1000000000000,\n",
      "           'riskValue': 1952200,\n",
      "           'sessionMargin': 0,\n",
      "           'state': '',\n",
      "           'syntheticMargin': None,\n",
      "           'targetExcessMargin': 0,\n",
      "           'taxableMargin': 0,\n",
      "           'timestamp': '2020-09-08T04:46:50.374Z',\n",
      "           'unrealisedPnl': 20600,\n",
      "           'unrealisedProfit': 0,\n",
      "           'varMargin': 0,\n",
      "           'walletBalance': 872338,\n",
      "           'withdrawableMargin': 847194}],\n",
      " 'total': {'BTC': 0.00892938},\n",
      " 'used': {'BTC': 0.00045743999999999993}}\n"
     ]
    }
   ],
   "source": [
    "exchange = ccxt.bitmex({\n",
    "    'apiKey': 'PUNPhX0cNSinQ7Zv4TRAETdx',\n",
    "    'secret': 'duc5b9JxLy68Oza_9cfv6I8HztwaYFSOdETWmOYOCojFtGv7',\n",
    "})\n",
    "if 'test' in exchange.urls:\n",
    "    exchange.urls['api'] = exchange.urls['test'] # ←----- switch the base URL to testnet\n",
    "pprint.pprint(exchange.fetch_balance())"
   ]
  },
  {
   "cell_type": "code",
   "execution_count": 61,
   "metadata": {},
   "outputs": [],
   "source": [
    "store = CCXTStore(exchange=\"bitmex\", currency=\"BTC\", config=config, retries=5, debug=False, sandbox=True)\n",
    "store.exchange = exchange"
   ]
  },
  {
   "cell_type": "code",
   "execution_count": 119,
   "metadata": {},
   "outputs": [],
   "source": [
    "class MyCSVData(bt.feeds.GenericCSVData):\n",
    "    params = (\n",
    "        ('nullvalue', float('NaN')),\n",
    "        ('dtformat', '%Y-%m-%d %H:%M:%S'),\n",
    "        ('tmformat', '%H:%M:%S'),\n",
    "\n",
    "        ('datetime', 0),\n",
    "        ('time', -1),\n",
    "        ('open', 1),\n",
    "        ('high', 2),\n",
    "        ('low', 3),\n",
    "        ('close', 4),\n",
    "        ('volume', 5),\n",
    "        ('openinterest', 6),\n",
    "    )\n",
    "data2 = MyCSVData(\n",
    "            dataname=\"FXBTUSD-1m-data.csv\",\n",
    "            # Do not pass values before this date\n",
    "            fromdate=start_datetime,\n",
    "            # Do not pass values before this date\n",
    "            todate=end_datetime,\n",
    "            # Do not pass values after this date\n",
    "            reverse=False)"
   ]
  },
  {
   "cell_type": "code",
   "execution_count": 138,
   "metadata": {},
   "outputs": [],
   "source": [
    "class TestStrategy(bt.Strategy):\n",
    "    def __init__(self):\n",
    "        self.next_runs = 0\n",
    "\n",
    "    def next(self, dt=None):\n",
    "        dt = dt or self.datas[0].datetime.datetime(0)\n",
    "        print('%s closing price: %s' % (dt.isoformat(), self.datas[0].close[0]))\n",
    "        self.next_runs += 1"
   ]
  },
  {
   "cell_type": "code",
   "execution_count": 142,
   "metadata": {},
   "outputs": [
    {
     "ename": "AttributeError",
     "evalue": "'CCXTBroker' object has no attribute 'setcash'",
     "output_type": "error",
     "traceback": [
      "\u001b[0;31m---------------------------------------------------------------------------\u001b[0m",
      "\u001b[0;31mAttributeError\u001b[0m                            Traceback (most recent call last)",
      "\u001b[0;32m<ipython-input-142-0b5e6ea6ba04>\u001b[0m in \u001b[0;36m<module>\u001b[0;34m\u001b[0m\n\u001b[1;32m      2\u001b[0m \u001b[0mbroker\u001b[0m \u001b[0;34m=\u001b[0m \u001b[0mstore\u001b[0m\u001b[0;34m.\u001b[0m\u001b[0mgetbroker\u001b[0m\u001b[0;34m(\u001b[0m\u001b[0mbroker_mapping\u001b[0m\u001b[0;34m=\u001b[0m\u001b[0mbroker_mapping\u001b[0m\u001b[0;34m)\u001b[0m\u001b[0;34m\u001b[0m\u001b[0;34m\u001b[0m\u001b[0m\n\u001b[1;32m      3\u001b[0m \u001b[0mcerebro\u001b[0m\u001b[0;34m.\u001b[0m\u001b[0msetbroker\u001b[0m\u001b[0;34m(\u001b[0m\u001b[0mbroker\u001b[0m\u001b[0;34m)\u001b[0m\u001b[0;34m\u001b[0m\u001b[0;34m\u001b[0m\u001b[0m\n\u001b[0;32m----> 4\u001b[0;31m \u001b[0mcerebro\u001b[0m\u001b[0;34m.\u001b[0m\u001b[0mbroker\u001b[0m\u001b[0;34m.\u001b[0m\u001b[0msetcash\u001b[0m\u001b[0;34m(\u001b[0m\u001b[0;36m100000.0\u001b[0m\u001b[0;34m)\u001b[0m\u001b[0;34m\u001b[0m\u001b[0;34m\u001b[0m\u001b[0m\n\u001b[0m",
      "\u001b[0;31mAttributeError\u001b[0m: 'CCXTBroker' object has no attribute 'setcash'"
     ]
    }
   ],
   "source": [
    "cerebro = bt.Cerebro()\n",
    "broker = store.getbroker(broker_mapping=broker_mapping)\n",
    "cerebro.setbroker(broker)\n",
    "cerebro.broker.setcash(100000.0)\n"
   ]
  },
  {
   "cell_type": "code",
   "execution_count": 141,
   "metadata": {},
   "outputs": [
    {
     "data": {
      "text/plain": [
       "[<__main__.TestStrategy at 0x7f448d316320>]"
      ]
     },
     "execution_count": 141,
     "metadata": {},
     "output_type": "execute_result"
    }
   ],
   "source": [
    "cerebro.adddata(data2)\n",
    "cerebro.addstrategy(TestStrategy)\n",
    "cerebro.run()"
   ]
  },
  {
   "cell_type": "code",
   "execution_count": 42,
   "metadata": {},
   "outputs": [
    {
     "data": {
      "text/plain": [
       "[<__main__.TestStrategy at 0x7f44982ace48>]"
      ]
     },
     "execution_count": 42,
     "metadata": {},
     "output_type": "execute_result"
    }
   ],
   "source": [
    "cerebro.run()"
   ]
  },
  {
   "cell_type": "code",
   "execution_count": 28,
   "metadata": {},
   "outputs": [
    {
     "ename": "AttributeError",
     "evalue": "'Plot_OldSync' object has no attribute 'mpyplot'",
     "output_type": "error",
     "traceback": [
      "\u001b[0;31m---------------------------------------------------------------------------\u001b[0m",
      "\u001b[0;31mAttributeError\u001b[0m                            Traceback (most recent call last)",
      "\u001b[0;32m<ipython-input-28-15590cfce483>\u001b[0m in \u001b[0;36m<module>\u001b[0;34m\u001b[0m\n\u001b[1;32m      1\u001b[0m \u001b[0mget_ipython\u001b[0m\u001b[0;34m(\u001b[0m\u001b[0;34m)\u001b[0m\u001b[0;34m.\u001b[0m\u001b[0mrun_line_magic\u001b[0m\u001b[0;34m(\u001b[0m\u001b[0;34m'matplotlib'\u001b[0m\u001b[0;34m,\u001b[0m \u001b[0;34m'inline'\u001b[0m\u001b[0;34m)\u001b[0m\u001b[0;34m\u001b[0m\u001b[0;34m\u001b[0m\u001b[0m\n\u001b[0;32m----> 2\u001b[0;31m \u001b[0mcerebro\u001b[0m\u001b[0;34m.\u001b[0m\u001b[0mplot\u001b[0m\u001b[0;34m(\u001b[0m\u001b[0;34m)\u001b[0m\u001b[0;34m\u001b[0m\u001b[0;34m\u001b[0m\u001b[0m\n\u001b[0m",
      "\u001b[0;32m~/.local/lib/python3.6/site-packages/backtrader/cerebro.py\u001b[0m in \u001b[0;36mplot\u001b[0;34m(self, plotter, numfigs, iplot, start, end, width, height, dpi, tight, use, **kwargs)\u001b[0m\n\u001b[1;32m    994\u001b[0m                 \u001b[0mfigs\u001b[0m\u001b[0;34m.\u001b[0m\u001b[0mappend\u001b[0m\u001b[0;34m(\u001b[0m\u001b[0mrfig\u001b[0m\u001b[0;34m)\u001b[0m\u001b[0;34m\u001b[0m\u001b[0;34m\u001b[0m\u001b[0m\n\u001b[1;32m    995\u001b[0m \u001b[0;34m\u001b[0m\u001b[0m\n\u001b[0;32m--> 996\u001b[0;31m             \u001b[0mplotter\u001b[0m\u001b[0;34m.\u001b[0m\u001b[0mshow\u001b[0m\u001b[0;34m(\u001b[0m\u001b[0;34m)\u001b[0m\u001b[0;34m\u001b[0m\u001b[0;34m\u001b[0m\u001b[0m\n\u001b[0m\u001b[1;32m    997\u001b[0m \u001b[0;34m\u001b[0m\u001b[0m\n\u001b[1;32m    998\u001b[0m         \u001b[0;32mreturn\u001b[0m \u001b[0mfigs\u001b[0m\u001b[0;34m\u001b[0m\u001b[0;34m\u001b[0m\u001b[0m\n",
      "\u001b[0;32m~/.local/lib/python3.6/site-packages/backtrader/plot/plot.py\u001b[0m in \u001b[0;36mshow\u001b[0;34m(self)\u001b[0m\n\u001b[1;32m    815\u001b[0m \u001b[0;34m\u001b[0m\u001b[0m\n\u001b[1;32m    816\u001b[0m     \u001b[0;32mdef\u001b[0m \u001b[0mshow\u001b[0m\u001b[0;34m(\u001b[0m\u001b[0mself\u001b[0m\u001b[0;34m)\u001b[0m\u001b[0;34m:\u001b[0m\u001b[0;34m\u001b[0m\u001b[0;34m\u001b[0m\u001b[0m\n\u001b[0;32m--> 817\u001b[0;31m         \u001b[0mself\u001b[0m\u001b[0;34m.\u001b[0m\u001b[0mmpyplot\u001b[0m\u001b[0;34m.\u001b[0m\u001b[0mshow\u001b[0m\u001b[0;34m(\u001b[0m\u001b[0;34m)\u001b[0m\u001b[0;34m\u001b[0m\u001b[0;34m\u001b[0m\u001b[0m\n\u001b[0m\u001b[1;32m    818\u001b[0m \u001b[0;34m\u001b[0m\u001b[0m\n\u001b[1;32m    819\u001b[0m     \u001b[0;32mdef\u001b[0m \u001b[0msavefig\u001b[0m\u001b[0;34m(\u001b[0m\u001b[0mself\u001b[0m\u001b[0;34m,\u001b[0m \u001b[0mfig\u001b[0m\u001b[0;34m,\u001b[0m \u001b[0mfilename\u001b[0m\u001b[0;34m,\u001b[0m \u001b[0mwidth\u001b[0m\u001b[0;34m=\u001b[0m\u001b[0;36m16\u001b[0m\u001b[0;34m,\u001b[0m \u001b[0mheight\u001b[0m\u001b[0;34m=\u001b[0m\u001b[0;36m9\u001b[0m\u001b[0;34m,\u001b[0m \u001b[0mdpi\u001b[0m\u001b[0;34m=\u001b[0m\u001b[0;36m300\u001b[0m\u001b[0;34m,\u001b[0m \u001b[0mtight\u001b[0m\u001b[0;34m=\u001b[0m\u001b[0;32mTrue\u001b[0m\u001b[0;34m)\u001b[0m\u001b[0;34m:\u001b[0m\u001b[0;34m\u001b[0m\u001b[0;34m\u001b[0m\u001b[0m\n",
      "\u001b[0;31mAttributeError\u001b[0m: 'Plot_OldSync' object has no attribute 'mpyplot'"
     ]
    }
   ],
   "source": []
  },
  {
   "cell_type": "code",
   "execution_count": 152,
   "metadata": {},
   "outputs": [
    {
     "ename": "KeyError",
     "evalue": "'parent'",
     "output_type": "error",
     "traceback": [
      "\u001b[0;31m---------------------------------------------------------------------------\u001b[0m",
      "\u001b[0;31mKeyError\u001b[0m                                  Traceback (most recent call last)",
      "\u001b[0;32m<ipython-input-152-13316c91391b>\u001b[0m in \u001b[0;36m<module>\u001b[0;34m\u001b[0m\n\u001b[0;32m----> 1\u001b[0;31m \u001b[0mbroker\u001b[0m\u001b[0;34m.\u001b[0m\u001b[0mbuy\u001b[0m\u001b[0;34m(\u001b[0m\u001b[0;32mNone\u001b[0m\u001b[0;34m,\u001b[0m \u001b[0mdata\u001b[0m\u001b[0;34m,\u001b[0m \u001b[0;36m1\u001b[0m\u001b[0;34m)\u001b[0m\u001b[0;34m\u001b[0m\u001b[0;34m\u001b[0m\u001b[0m\n\u001b[0m",
      "\u001b[0;32m~/.local/lib/python3.6/site-packages/ccxtbt/ccxtbroker.py\u001b[0m in \u001b[0;36mbuy\u001b[0;34m(self, owner, data, size, price, plimit, exectype, valid, tradeid, oco, trailamount, trailpercent, **kwargs)\u001b[0m\n\u001b[1;32m    240\u001b[0m             \u001b[0mtrailamount\u001b[0m\u001b[0;34m=\u001b[0m\u001b[0;32mNone\u001b[0m\u001b[0;34m,\u001b[0m \u001b[0mtrailpercent\u001b[0m\u001b[0;34m=\u001b[0m\u001b[0;32mNone\u001b[0m\u001b[0;34m,\u001b[0m\u001b[0;34m\u001b[0m\u001b[0;34m\u001b[0m\u001b[0m\n\u001b[1;32m    241\u001b[0m             **kwargs):\n\u001b[0;32m--> 242\u001b[0;31m         \u001b[0;32mdel\u001b[0m \u001b[0mkwargs\u001b[0m\u001b[0;34m[\u001b[0m\u001b[0;34m'parent'\u001b[0m\u001b[0;34m]\u001b[0m\u001b[0;34m\u001b[0m\u001b[0;34m\u001b[0m\u001b[0m\n\u001b[0m\u001b[1;32m    243\u001b[0m         \u001b[0;32mdel\u001b[0m \u001b[0mkwargs\u001b[0m\u001b[0;34m[\u001b[0m\u001b[0;34m'transmit'\u001b[0m\u001b[0;34m]\u001b[0m\u001b[0;34m\u001b[0m\u001b[0;34m\u001b[0m\u001b[0m\n\u001b[1;32m    244\u001b[0m         \u001b[0;32mreturn\u001b[0m \u001b[0mself\u001b[0m\u001b[0;34m.\u001b[0m\u001b[0m_submit\u001b[0m\u001b[0;34m(\u001b[0m\u001b[0mowner\u001b[0m\u001b[0;34m,\u001b[0m \u001b[0mdata\u001b[0m\u001b[0;34m,\u001b[0m \u001b[0mexectype\u001b[0m\u001b[0;34m,\u001b[0m \u001b[0;34m'buy'\u001b[0m\u001b[0;34m,\u001b[0m \u001b[0msize\u001b[0m\u001b[0;34m,\u001b[0m \u001b[0mprice\u001b[0m\u001b[0;34m,\u001b[0m \u001b[0mkwargs\u001b[0m\u001b[0;34m)\u001b[0m\u001b[0;34m\u001b[0m\u001b[0;34m\u001b[0m\u001b[0m\n",
      "\u001b[0;31mKeyError\u001b[0m: 'parent'"
     ]
    }
   ],
   "source": []
  },
  {
   "cell_type": "code",
   "execution_count": null,
   "metadata": {},
   "outputs": [],
   "source": []
  }
 ],
 "metadata": {
  "kernelspec": {
   "display_name": "Python 3",
   "language": "python",
   "name": "python3"
  },
  "language_info": {
   "codemirror_mode": {
    "name": "ipython",
    "version": 3
   },
   "file_extension": ".py",
   "mimetype": "text/x-python",
   "name": "python",
   "nbconvert_exporter": "python",
   "pygments_lexer": "ipython3",
   "version": "3.8.3"
  }
 },
 "nbformat": 4,
 "nbformat_minor": 4
}
