{
 "cells": [
  {
   "cell_type": "code",
   "execution_count": null,
   "metadata": {},
   "outputs": [],
   "source": []
  },
  {
   "cell_type": "markdown",
   "metadata": {},
   "source": [
    "#"
   ]
  },
  {
   "cell_type": "code",
   "execution_count": 11,
   "metadata": {},
   "outputs": [],
   "source": [
    "import pandas as pd\n",
    "import math\n",
    "import os.path\n",
    "import time\n",
    "from bitmex import bitmex\n",
    "from datetime import timedelta, datetime\n",
    "from dateutil import parser\n",
    "from tqdm import tqdm_notebook #(Optional, used for progress-bars)\n",
    "import tqdm\n",
    "import backtrader as bt\n",
    "import backtrader as bt\n",
    "from datetime import datetime, timedelta\n",
    "import json\n",
    "import ccxt\n",
    "import pprint"
   ]
  },
  {
   "cell_type": "code",
   "execution_count": 12,
   "metadata": {},
   "outputs": [],
   "source": [
    "### API\n",
    "with open('params.json') as f:\n",
    "    params = json.load(f)\n",
    "\n",
    "bitmex_api_key = params[\"apiKey\"]    #Enter your own API-key here\n",
    "bitmex_api_secret = params[\"apiSecret\"] #Enter your own API-secret here"
   ]
  },
  {
   "cell_type": "code",
   "execution_count": 66,
   "metadata": {},
   "outputs": [
    {
     "name": "stderr",
     "output_type": "stream",
     "text": [
      "/Users/jamescopperthwaite/opt/anaconda3/envs/myenv/lib/python3.5/site-packages/swagger_spec_validator/validator20.py:53: SwaggerValidationWarning: Found \"$ref: #/definitions/UserPreferences\" with siblings that will be overwritten. See https://stackoverflow.com/a/48114924 for more information. (path #/definitions/User/properties/preferences)\n",
      "  ref_dict['$ref'], '/'.join(path),\n"
     ]
    }
   ],
   "source": [
    "### CONSTANTS\n",
    "binsizes = {\"1m\": 1, \"5m\": 5, \"1h\": 60, \"3h\": 240, \"1d\": 1440}\n",
    "batch_size = 750\n",
    "bitmex_client = bitmex(test=True, api_key=bitmex_api_key, api_secret=bitmex_api_secret)"
   ]
  },
  {
   "cell_type": "code",
   "execution_count": 67,
   "metadata": {},
   "outputs": [],
   "source": [
    "\n",
    "def get_all_bitmex(symbol, kline_size, start_datetime, end_datetime, save = False):\n",
    "    filename = 'Fa1%s-%s-data.csv' % (symbol, kline_size)\n",
    "    if os.path.isfile(filename): \n",
    "        data_df = pd.read_csv(filename)\n",
    "        return data_df\n",
    "    else: \n",
    "        data_df = pd.DataFrame()\n",
    "        \n",
    "    delta_min = (end_datetime - start_datetime).total_seconds() / 60 # number of mins\n",
    "    \n",
    "    available_data = math.ceil(delta_min/binsizes[kline_size])\n",
    "    \n",
    "    \n",
    "    rounds = math.ceil(available_data / batch_size)\n",
    "    \n",
    "    if rounds > 0:\n",
    "        print('Downloading %d minutes of new data available for %s, i.e. %d instances of %s data in %d rounds.' % (delta_min, symbol, available_data, kline_size, rounds))\n",
    "        for round_num in tqdm_notebook(range(rounds)):\n",
    "            time.sleep(1)\n",
    "            new_time = (start_datetime + timedelta(minutes = round_num * batch_size * binsizes[kline_size]))\n",
    "            \n",
    "            data = bitmex_client.Trade.Trade_getBucketed(symbol=symbol, binSize=kline_size, count=batch_size, startTime = new_time).result()[0]\n",
    "            \n",
    "            temp_df = pd.DataFrame(data)\n",
    "            data_df = data_df.append(temp_df)\n",
    "            \n",
    "    data_df[\"time\"] = data_df[\"timestamp\"].dt.time\n",
    "    data_df[\"timestamp\"] = data_df[\"timestamp\"].astype(str).str[:-6]\n",
    "    data_df = data_df.rename(columns={'timestamp': 'datetime', \"vwap\": \"openinterest\"})\n",
    "    data_df.set_index('datetime', inplace=True)\n",
    "    data_df = data_df.drop([\"symbol\", \"trades\"],axis=1)\n",
    "    \n",
    "    if save and rounds > 0: \n",
    "        data_df.to_csv(filename)\n",
    "    print('All caught up..!')\n",
    "    \n",
    "    return data_df"
   ]
  },
  {
   "cell_type": "code",
   "execution_count": 68,
   "metadata": {},
   "outputs": [
    {
     "name": "stdout",
     "output_type": "stream",
     "text": [
      "Downloading 43199 minutes of new data available for XBTUSD, i.e. 180 instances of 3h data in 1 rounds.\n"
     ]
    },
    {
     "name": "stderr",
     "output_type": "stream",
     "text": [
      "/Users/jamescopperthwaite/opt/anaconda3/envs/myenv/lib/python3.5/site-packages/ipykernel_launcher.py:18: TqdmDeprecationWarning: This function will be removed in tqdm==5.0.0\n",
      "Please use `tqdm.notebook.tqdm` instead of `tqdm.tqdm_notebook`\n"
     ]
    },
    {
     "data": {
      "application/vnd.jupyter.widget-view+json": {
       "model_id": "4e6f861db16a46639b7e619a610df1f6",
       "version_major": 2,
       "version_minor": 0
      },
      "text/plain": [
       "HBox(children=(FloatProgress(value=0.0, max=1.0), HTML(value='')))"
      ]
     },
     "metadata": {},
     "output_type": "display_data"
    },
    {
     "name": "stdout",
     "output_type": "stream",
     "text": [
      "\n"
     ]
    },
    {
     "ename": "HTTPBadRequest",
     "evalue": "400 Bad Request: {'error': {'message': 'binSize is invalid.', 'name': 'HTTPError'}}",
     "output_type": "error",
     "traceback": [
      "\u001b[0;31m---------------------------------------------------------------------------\u001b[0m",
      "\u001b[0;31mHTTPBadRequest\u001b[0m                            Traceback (most recent call last)",
      "\u001b[0;32m<ipython-input-68-85ac2d153afb>\u001b[0m in \u001b[0;36m<module>\u001b[0;34m\u001b[0m\n\u001b[1;32m      6\u001b[0m \u001b[0mdatas\u001b[0m \u001b[0;34m=\u001b[0m \u001b[0;34m[\u001b[0m\u001b[0;34m]\u001b[0m\u001b[0;34m\u001b[0m\u001b[0m\n\u001b[1;32m      7\u001b[0m \u001b[0;32mfor\u001b[0m \u001b[0msymbol\u001b[0m \u001b[0;32min\u001b[0m \u001b[0mbitmex_symbols\u001b[0m\u001b[0;34m:\u001b[0m\u001b[0;34m\u001b[0m\u001b[0m\n\u001b[0;32m----> 8\u001b[0;31m     \u001b[0mdatas\u001b[0m\u001b[0;34m.\u001b[0m\u001b[0mappend\u001b[0m\u001b[0;34m(\u001b[0m\u001b[0mget_all_bitmex\u001b[0m\u001b[0;34m(\u001b[0m\u001b[0msymbol\u001b[0m\u001b[0;34m,\u001b[0m \u001b[0;34m'3h'\u001b[0m\u001b[0;34m,\u001b[0m \u001b[0mstart_datetime\u001b[0m\u001b[0;34m,\u001b[0m \u001b[0mend_datetime\u001b[0m\u001b[0;34m,\u001b[0m \u001b[0msave\u001b[0m \u001b[0;34m=\u001b[0m \u001b[0;32mTrue\u001b[0m\u001b[0;34m)\u001b[0m\u001b[0;34m)\u001b[0m\u001b[0;34m\u001b[0m\u001b[0m\n\u001b[0m",
      "\u001b[0;32m<ipython-input-67-51eef60bfa65>\u001b[0m in \u001b[0;36mget_all_bitmex\u001b[0;34m(symbol, kline_size, start_datetime, end_datetime, save)\u001b[0m\n\u001b[1;32m     20\u001b[0m             \u001b[0mnew_time\u001b[0m \u001b[0;34m=\u001b[0m \u001b[0;34m(\u001b[0m\u001b[0mstart_datetime\u001b[0m \u001b[0;34m+\u001b[0m \u001b[0mtimedelta\u001b[0m\u001b[0;34m(\u001b[0m\u001b[0mminutes\u001b[0m \u001b[0;34m=\u001b[0m \u001b[0mround_num\u001b[0m \u001b[0;34m*\u001b[0m \u001b[0mbatch_size\u001b[0m \u001b[0;34m*\u001b[0m \u001b[0mbinsizes\u001b[0m\u001b[0;34m[\u001b[0m\u001b[0mkline_size\u001b[0m\u001b[0;34m]\u001b[0m\u001b[0;34m)\u001b[0m\u001b[0;34m)\u001b[0m\u001b[0;34m\u001b[0m\u001b[0m\n\u001b[1;32m     21\u001b[0m \u001b[0;34m\u001b[0m\u001b[0m\n\u001b[0;32m---> 22\u001b[0;31m             \u001b[0mdata\u001b[0m \u001b[0;34m=\u001b[0m \u001b[0mbitmex_client\u001b[0m\u001b[0;34m.\u001b[0m\u001b[0mTrade\u001b[0m\u001b[0;34m.\u001b[0m\u001b[0mTrade_getBucketed\u001b[0m\u001b[0;34m(\u001b[0m\u001b[0msymbol\u001b[0m\u001b[0;34m=\u001b[0m\u001b[0msymbol\u001b[0m\u001b[0;34m,\u001b[0m \u001b[0mbinSize\u001b[0m\u001b[0;34m=\u001b[0m\u001b[0mkline_size\u001b[0m\u001b[0;34m,\u001b[0m \u001b[0mcount\u001b[0m\u001b[0;34m=\u001b[0m\u001b[0mbatch_size\u001b[0m\u001b[0;34m,\u001b[0m \u001b[0mstartTime\u001b[0m \u001b[0;34m=\u001b[0m \u001b[0mnew_time\u001b[0m\u001b[0;34m)\u001b[0m\u001b[0;34m.\u001b[0m\u001b[0mresult\u001b[0m\u001b[0;34m(\u001b[0m\u001b[0;34m)\u001b[0m\u001b[0;34m[\u001b[0m\u001b[0;36m0\u001b[0m\u001b[0;34m]\u001b[0m\u001b[0;34m\u001b[0m\u001b[0m\n\u001b[0m\u001b[1;32m     23\u001b[0m \u001b[0;34m\u001b[0m\u001b[0m\n\u001b[1;32m     24\u001b[0m             \u001b[0mtemp_df\u001b[0m \u001b[0;34m=\u001b[0m \u001b[0mpd\u001b[0m\u001b[0;34m.\u001b[0m\u001b[0mDataFrame\u001b[0m\u001b[0;34m(\u001b[0m\u001b[0mdata\u001b[0m\u001b[0;34m)\u001b[0m\u001b[0;34m\u001b[0m\u001b[0m\n",
      "\u001b[0;32m~/opt/anaconda3/envs/myenv/lib/python3.5/site-packages/bravado/http_future.py\u001b[0m in \u001b[0;36mresult\u001b[0;34m(self, timeout)\u001b[0m\n\u001b[1;32m    269\u001b[0m         \"\"\"\n\u001b[1;32m    270\u001b[0m         \u001b[0mincoming_response\u001b[0m \u001b[0;34m=\u001b[0m \u001b[0mself\u001b[0m\u001b[0;34m.\u001b[0m\u001b[0m_get_incoming_response\u001b[0m\u001b[0;34m(\u001b[0m\u001b[0mtimeout\u001b[0m\u001b[0;34m)\u001b[0m\u001b[0;34m\u001b[0m\u001b[0m\n\u001b[0;32m--> 271\u001b[0;31m         \u001b[0mswagger_result\u001b[0m \u001b[0;34m=\u001b[0m \u001b[0mself\u001b[0m\u001b[0;34m.\u001b[0m\u001b[0m_get_swagger_result\u001b[0m\u001b[0;34m(\u001b[0m\u001b[0mincoming_response\u001b[0m\u001b[0;34m)\u001b[0m\u001b[0;34m\u001b[0m\u001b[0m\n\u001b[0m\u001b[1;32m    272\u001b[0m \u001b[0;34m\u001b[0m\u001b[0m\n\u001b[1;32m    273\u001b[0m         \u001b[0;32mif\u001b[0m \u001b[0mself\u001b[0m\u001b[0;34m.\u001b[0m\u001b[0moperation\u001b[0m \u001b[0;32mis\u001b[0m \u001b[0;32mnot\u001b[0m \u001b[0;32mNone\u001b[0m\u001b[0;34m:\u001b[0m\u001b[0;34m\u001b[0m\u001b[0m\n",
      "\u001b[0;32m~/opt/anaconda3/envs/myenv/lib/python3.5/site-packages/bravado/http_future.py\u001b[0m in \u001b[0;36mwrapper\u001b[0;34m(self, *args, **kwargs)\u001b[0m\n\u001b[1;32m    122\u001b[0m \u001b[0;34m\u001b[0m\u001b[0m\n\u001b[1;32m    123\u001b[0m         \u001b[0;32mtry\u001b[0m\u001b[0;34m:\u001b[0m\u001b[0;34m\u001b[0m\u001b[0m\n\u001b[0;32m--> 124\u001b[0;31m             \u001b[0;32mreturn\u001b[0m \u001b[0mfunc\u001b[0m\u001b[0;34m(\u001b[0m\u001b[0mself\u001b[0m\u001b[0;34m,\u001b[0m \u001b[0;34m*\u001b[0m\u001b[0margs\u001b[0m\u001b[0;34m,\u001b[0m \u001b[0;34m**\u001b[0m\u001b[0mkwargs\u001b[0m\u001b[0;34m)\u001b[0m\u001b[0;34m\u001b[0m\u001b[0m\n\u001b[0m\u001b[1;32m    125\u001b[0m         \u001b[0;32mexcept\u001b[0m \u001b[0mtimeout_errors\u001b[0m \u001b[0;32mas\u001b[0m \u001b[0mexception\u001b[0m\u001b[0;34m:\u001b[0m\u001b[0;34m\u001b[0m\u001b[0m\n\u001b[1;32m    126\u001b[0m             \u001b[0mself\u001b[0m\u001b[0;34m.\u001b[0m\u001b[0mfuture\u001b[0m\u001b[0;34m.\u001b[0m\u001b[0m_raise_timeout_error\u001b[0m\u001b[0;34m(\u001b[0m\u001b[0mexception\u001b[0m\u001b[0;34m)\u001b[0m\u001b[0;34m\u001b[0m\u001b[0m\n",
      "\u001b[0;32m~/opt/anaconda3/envs/myenv/lib/python3.5/site-packages/bravado/http_future.py\u001b[0m in \u001b[0;36m_get_swagger_result\u001b[0;34m(self, incoming_response)\u001b[0m\n\u001b[1;32m    301\u001b[0m                 \u001b[0mincoming_response\u001b[0m\u001b[0;34m,\u001b[0m\u001b[0;34m\u001b[0m\u001b[0m\n\u001b[1;32m    302\u001b[0m                 \u001b[0mself\u001b[0m\u001b[0;34m.\u001b[0m\u001b[0moperation\u001b[0m\u001b[0;34m,\u001b[0m\u001b[0;34m\u001b[0m\u001b[0m\n\u001b[0;32m--> 303\u001b[0;31m                 \u001b[0mself\u001b[0m\u001b[0;34m.\u001b[0m\u001b[0mrequest_config\u001b[0m\u001b[0;34m.\u001b[0m\u001b[0mresponse_callbacks\u001b[0m\u001b[0;34m,\u001b[0m\u001b[0;34m\u001b[0m\u001b[0m\n\u001b[0m\u001b[1;32m    304\u001b[0m             )\n\u001b[1;32m    305\u001b[0m             \u001b[0mswagger_result\u001b[0m \u001b[0;34m=\u001b[0m \u001b[0mtyping\u001b[0m\u001b[0;34m.\u001b[0m\u001b[0mcast\u001b[0m\u001b[0;34m(\u001b[0m\u001b[0mT\u001b[0m\u001b[0;34m,\u001b[0m \u001b[0mincoming_response\u001b[0m\u001b[0;34m.\u001b[0m\u001b[0mswagger_result\u001b[0m\u001b[0;34m)\u001b[0m\u001b[0;34m\u001b[0m\u001b[0m\n",
      "\u001b[0;32m~/opt/anaconda3/envs/myenv/lib/python3.5/site-packages/bravado/http_future.py\u001b[0m in \u001b[0;36munmarshal_response\u001b[0;34m(incoming_response, operation, response_callbacks)\u001b[0m\n\u001b[1;32m    351\u001b[0m             \u001b[0mresponse_callback\u001b[0m\u001b[0;34m(\u001b[0m\u001b[0mincoming_response\u001b[0m\u001b[0;34m,\u001b[0m \u001b[0moperation\u001b[0m\u001b[0;34m)\u001b[0m\u001b[0;34m\u001b[0m\u001b[0m\n\u001b[1;32m    352\u001b[0m \u001b[0;34m\u001b[0m\u001b[0m\n\u001b[0;32m--> 353\u001b[0;31m     \u001b[0mraise_on_expected\u001b[0m\u001b[0;34m(\u001b[0m\u001b[0mincoming_response\u001b[0m\u001b[0;34m)\u001b[0m\u001b[0;34m\u001b[0m\u001b[0m\n\u001b[0m\u001b[1;32m    354\u001b[0m \u001b[0;34m\u001b[0m\u001b[0m\n\u001b[1;32m    355\u001b[0m \u001b[0;34m\u001b[0m\u001b[0m\n",
      "\u001b[0;32m~/opt/anaconda3/envs/myenv/lib/python3.5/site-packages/bravado/http_future.py\u001b[0m in \u001b[0;36mraise_on_expected\u001b[0;34m(http_response)\u001b[0m\n\u001b[1;32m    420\u001b[0m         raise make_http_exception(\n\u001b[1;32m    421\u001b[0m             \u001b[0mresponse\u001b[0m\u001b[0;34m=\u001b[0m\u001b[0mhttp_response\u001b[0m\u001b[0;34m,\u001b[0m\u001b[0;34m\u001b[0m\u001b[0m\n\u001b[0;32m--> 422\u001b[0;31m             swagger_result=http_response.swagger_result)\n\u001b[0m",
      "\u001b[0;31mHTTPBadRequest\u001b[0m: 400 Bad Request: {'error': {'message': 'binSize is invalid.', 'name': 'HTTPError'}}"
     ]
    }
   ],
   "source": [
    "start_datetime = datetime(2020, 6, 1, 0, 0, 0, 0)\n",
    "end_datetime = datetime(2020, 6, 30, 23, 59, 59, 0)\n",
    "\n",
    "\n",
    "bitmex_symbols = [\"XBTUSD\"]\n",
    "datas = []\n",
    "for symbol in bitmex_symbols:\n",
    "    datas.append(get_all_bitmex(symbol, '1m', start_datetime, end_datetime, save = True))"
   ]
  },
  {
   "cell_type": "code",
   "execution_count": null,
   "metadata": {},
   "outputs": [],
   "source": []
  },
  {
   "cell_type": "code",
   "execution_count": 59,
   "metadata": {},
   "outputs": [],
   "source": [
    " broker_mapping = {\n",
    "    'order_types': {\n",
    "        bt.Order.Market: 'market',\n",
    "        bt.Order.Limit: 'limit',\n",
    "        bt.Order.Stop: 'stop',\n",
    "        bt.Order.StopLimit: 'stop limit'\n",
    "    },\n",
    "    'mappings':{\n",
    "        'closed_order':{\n",
    "            'key': 'status',\n",
    "            'value':'closed'\n",
    "        },\n",
    "        'canceled_order':{\n",
    "            'key': 'result',\n",
    "            'value':1}\n",
    "    }\n",
    "}\n",
    "\n",
    "config = {'urls': {'api': 'https://testnet.bitmex.com'},\n",
    "                   'apiKey': params[\"apiKey\"],\n",
    "                   'secret': params[\"apiSecret\"],\n",
    "                   'enableRateLimit': True,\n",
    "                  }\n"
   ]
  },
  {
   "cell_type": "code",
   "execution_count": 59,
   "metadata": {},
   "outputs": [
    {
     "name": "stdout",
     "output_type": "stream",
     "text": [
      "{'BTC': {'free': 0.00745644,\n",
      "         'total': 0.00793364,\n",
      "         'used': 0.00047720000000000054},\n",
      " 'free': {'BTC': 0.00745644},\n",
      " 'info': [{'account': 319315,\n",
      "           'action': '',\n",
      "           'amount': 998918,\n",
      "           'availableMargin': 745644,\n",
      "           'commission': None,\n",
      "           'confirmedDebit': 0,\n",
      "           'currency': 'XBt',\n",
      "           'excessMargin': 745644,\n",
      "           'excessMarginPcnt': 0.1538,\n",
      "           'grossComm': 121061,\n",
      "           'grossExecCost': 0,\n",
      "           'grossLastValue': 4849000,\n",
      "           'grossMarkValue': 4849000,\n",
      "           'grossOpenCost': 0,\n",
      "           'grossOpenPremium': 0,\n",
      "           'indicativeTax': 0,\n",
      "           'initMargin': 0,\n",
      "           'maintMargin': 47720,\n",
      "           'marginBalance': 793364,\n",
      "           'marginBalancePcnt': 0.1636,\n",
      "           'marginLeverage': 6.111948613751065,\n",
      "           'marginUsedPcnt': 0.0601,\n",
      "           'pendingCredit': 0,\n",
      "           'pendingDebit': 0,\n",
      "           'prevRealisedPnl': -65270,\n",
      "           'prevState': '',\n",
      "           'prevUnrealisedPnl': 0,\n",
      "           'realisedPnl': -201062,\n",
      "           'riskLimit': 1000000000000,\n",
      "           'riskValue': 4849000,\n",
      "           'sessionMargin': 0,\n",
      "           'state': '',\n",
      "           'syntheticMargin': None,\n",
      "           'targetExcessMargin': 0,\n",
      "           'taxableMargin': 0,\n",
      "           'timestamp': '2020-09-11T08:56:00.550Z',\n",
      "           'unrealisedPnl': -4492,\n",
      "           'unrealisedProfit': 0,\n",
      "           'varMargin': 0,\n",
      "           'walletBalance': 797856,\n",
      "           'withdrawableMargin': 745644}],\n",
      " 'total': {'BTC': 0.00793364},\n",
      " 'used': {'BTC': 0.00047720000000000054}}\n"
     ]
    }
   ],
   "source": [
    "exchange = ccxt.bitmex({\n",
    "    'apiKey': params[\"apiKey\"],\n",
    "    'secret': params[\"apiSecret\"],\n",
    "})\n",
    "if 'test' in exchange.urls:\n",
    "    exchange.urls['api'] = exchange.urls['test'] \n",
    "pprint.pprint(exchange.fetch_balance())"
   ]
  },
  {
   "cell_type": "code",
   "execution_count": 23,
   "metadata": {},
   "outputs": [],
   "source": [
    "client = bitmex(test=True,\n",
    "                api_key=params[\"apiKey\"],\n",
    "                api_secret=params[\"apiSecret\"] )"
   ]
  },
  {
   "cell_type": "code",
   "execution_count": 60,
   "metadata": {},
   "outputs": [
    {
     "data": {
      "text/html": [
       "<div>\n",
       "<table border=\"1\" class=\"dataframe\">\n",
       "  <thead>\n",
       "    <tr style=\"text-align: right;\">\n",
       "      <th></th>\n",
       "      <th>close</th>\n",
       "      <th>foreignNotional</th>\n",
       "      <th>high</th>\n",
       "      <th>homeNotional</th>\n",
       "      <th>lastSize</th>\n",
       "      <th>low</th>\n",
       "      <th>open</th>\n",
       "      <th>symbol</th>\n",
       "      <th>timestamp</th>\n",
       "      <th>trades</th>\n",
       "      <th>turnover</th>\n",
       "      <th>volume</th>\n",
       "      <th>vwap</th>\n",
       "    </tr>\n",
       "  </thead>\n",
       "  <tbody>\n",
       "    <tr>\n",
       "      <th>0</th>\n",
       "      <td>10301.5</td>\n",
       "      <td>500.0</td>\n",
       "      <td>10306.5</td>\n",
       "      <td>0.048535</td>\n",
       "      <td>498.0</td>\n",
       "      <td>10301.5</td>\n",
       "      <td>10308.5</td>\n",
       "      <td>XBTUSD</td>\n",
       "      <td>2020-09-11 08:57:00+00:00</td>\n",
       "      <td>3</td>\n",
       "      <td>4853492</td>\n",
       "      <td>500</td>\n",
       "      <td>10302.9054</td>\n",
       "    </tr>\n",
       "    <tr>\n",
       "      <th>1</th>\n",
       "      <td>10308.5</td>\n",
       "      <td>501.0</td>\n",
       "      <td>10308.5</td>\n",
       "      <td>0.048637</td>\n",
       "      <td>1.0</td>\n",
       "      <td>10301.0</td>\n",
       "      <td>10308.5</td>\n",
       "      <td>XBTUSD</td>\n",
       "      <td>2020-09-11 08:56:00+00:00</td>\n",
       "      <td>4</td>\n",
       "      <td>4863691</td>\n",
       "      <td>501</td>\n",
       "      <td>10301.8440</td>\n",
       "    </tr>\n",
       "    <tr>\n",
       "      <th>2</th>\n",
       "      <td>10308.5</td>\n",
       "      <td>1521.0</td>\n",
       "      <td>10317.5</td>\n",
       "      <td>0.147431</td>\n",
       "      <td>1.0</td>\n",
       "      <td>10302.0</td>\n",
       "      <td>10307.5</td>\n",
       "      <td>XBTUSD</td>\n",
       "      <td>2020-09-11 08:55:00+00:00</td>\n",
       "      <td>11</td>\n",
       "      <td>14743139</td>\n",
       "      <td>1521</td>\n",
       "      <td>10316.7234</td>\n",
       "    </tr>\n",
       "    <tr>\n",
       "      <th>3</th>\n",
       "      <td>10307.5</td>\n",
       "      <td>37853.0</td>\n",
       "      <td>10318.0</td>\n",
       "      <td>3.669269</td>\n",
       "      <td>50.0</td>\n",
       "      <td>10300.0</td>\n",
       "      <td>10309.0</td>\n",
       "      <td>XBTUSD</td>\n",
       "      <td>2020-09-11 08:54:00+00:00</td>\n",
       "      <td>16</td>\n",
       "      <td>366926865</td>\n",
       "      <td>37853</td>\n",
       "      <td>10316.7234</td>\n",
       "    </tr>\n",
       "    <tr>\n",
       "      <th>4</th>\n",
       "      <td>10309.0</td>\n",
       "      <td>813.0</td>\n",
       "      <td>10309.5</td>\n",
       "      <td>0.078918</td>\n",
       "      <td>1.0</td>\n",
       "      <td>10297.0</td>\n",
       "      <td>10297.5</td>\n",
       "      <td>XBTUSD</td>\n",
       "      <td>2020-09-11 08:53:00+00:00</td>\n",
       "      <td>9</td>\n",
       "      <td>7891848</td>\n",
       "      <td>813</td>\n",
       "      <td>10301.8440</td>\n",
       "    </tr>\n",
       "  </tbody>\n",
       "</table>\n",
       "</div>"
      ],
      "text/plain": [
       "     close  foreignNotional     high  homeNotional  lastSize      low  \\\n",
       "0  10301.5            500.0  10306.5      0.048535     498.0  10301.5   \n",
       "1  10308.5            501.0  10308.5      0.048637       1.0  10301.0   \n",
       "2  10308.5           1521.0  10317.5      0.147431       1.0  10302.0   \n",
       "3  10307.5          37853.0  10318.0      3.669269      50.0  10300.0   \n",
       "4  10309.0            813.0  10309.5      0.078918       1.0  10297.0   \n",
       "\n",
       "      open  symbol                 timestamp  trades   turnover  volume  \\\n",
       "0  10308.5  XBTUSD 2020-09-11 08:57:00+00:00       3    4853492     500   \n",
       "1  10308.5  XBTUSD 2020-09-11 08:56:00+00:00       4    4863691     501   \n",
       "2  10307.5  XBTUSD 2020-09-11 08:55:00+00:00      11   14743139    1521   \n",
       "3  10309.0  XBTUSD 2020-09-11 08:54:00+00:00      16  366926865   37853   \n",
       "4  10297.5  XBTUSD 2020-09-11 08:53:00+00:00       9    7891848     813   \n",
       "\n",
       "         vwap  \n",
       "0  10302.9054  \n",
       "1  10301.8440  \n",
       "2  10316.7234  \n",
       "3  10316.7234  \n",
       "4  10301.8440  "
      ]
     },
     "execution_count": 60,
     "metadata": {},
     "output_type": "execute_result"
    }
   ],
   "source": [
    "ohlcv_candles = pd.DataFrame(client.Trade.Trade_getBucketed(\n",
    "            binSize=\"1m\",\n",
    "            symbol='XBTUSD',\n",
    "            count=300,\n",
    "            reverse=True\n",
    "        ).result()[0])\n",
    "ohlcv_candles.head()"
   ]
  },
  {
   "cell_type": "code",
   "execution_count": 61,
   "metadata": {},
   "outputs": [
    {
     "name": "stdout",
     "output_type": "stream",
     "text": [
      "10301.5\n",
      "10334.6509049\n",
      "10384.4345013\n",
      "10284.8673084\n"
     ]
    }
   ],
   "source": [
    "upperband, middleband, lowerband = talib.BBANDS(ohlcv_candles.close.values[::-1], \n",
    "                timeperiod=100, nbdevup=1, \n",
    "                nbdevdn=1, matype=3)\n",
    "\n",
    "print(ohlcv_candles.close.values[0])\n",
    "print(middleband[-1])\n",
    "print(upperband[-1])\n",
    "print(lowerband[-1])\n"
   ]
  },
  {
   "cell_type": "code",
   "execution_count": 62,
   "metadata": {},
   "outputs": [
    {
     "data": {
      "text/plain": [
       "{'account': 319315,\n",
       " 'avgPx': None,\n",
       " 'clOrdID': '',\n",
       " 'clOrdLinkID': '',\n",
       " 'contingencyType': '',\n",
       " 'cumQty': 0,\n",
       " 'currency': 'USD',\n",
       " 'displayQty': None,\n",
       " 'exDestination': 'XBME',\n",
       " 'execInst': '',\n",
       " 'leavesQty': 100,\n",
       " 'multiLegReportingType': 'SingleSecurity',\n",
       " 'ordRejReason': '',\n",
       " 'ordStatus': 'New',\n",
       " 'ordType': 'Limit',\n",
       " 'orderID': 'c4940e05-2731-3f3b-0c2f-b1bf40090451',\n",
       " 'orderQty': 100,\n",
       " 'pegOffsetValue': None,\n",
       " 'pegPriceType': '',\n",
       " 'price': 10000.0,\n",
       " 'settlCurrency': 'XBt',\n",
       " 'side': 'Buy',\n",
       " 'simpleCumQty': None,\n",
       " 'simpleLeavesQty': None,\n",
       " 'simpleOrderQty': None,\n",
       " 'stopPx': None,\n",
       " 'symbol': 'XBTUSD',\n",
       " 'text': 'Submitted via API.',\n",
       " 'timeInForce': 'GoodTillCancel',\n",
       " 'timestamp': datetime.datetime(2020, 9, 11, 8, 58, 11, 59000, tzinfo=tzutc()),\n",
       " 'transactTime': datetime.datetime(2020, 9, 11, 8, 58, 11, 59000, tzinfo=tzutc()),\n",
       " 'triggered': '',\n",
       " 'workingIndicator': True}"
      ]
     },
     "execution_count": 62,
     "metadata": {},
     "output_type": "execute_result"
    }
   ],
   "source": [
    "# \n",
    "client.Order.Order_new(symbol='XBTUSD', orderQty=100, price=10000).result()[0]"
   ]
  },
  {
   "cell_type": "code",
   "execution_count": 63,
   "metadata": {},
   "outputs": [
    {
     "data": {
      "text/plain": [
       "([{'account': 319315,\n",
       "   'avgPx': None,\n",
       "   'clOrdID': '',\n",
       "   'clOrdLinkID': '',\n",
       "   'contingencyType': '',\n",
       "   'cumQty': 0,\n",
       "   'currency': 'USD',\n",
       "   'displayQty': None,\n",
       "   'exDestination': 'XBME',\n",
       "   'execInst': '',\n",
       "   'leavesQty': 0,\n",
       "   'multiLegReportingType': 'SingleSecurity',\n",
       "   'ordRejReason': '',\n",
       "   'ordStatus': 'Canceled',\n",
       "   'ordType': 'Limit',\n",
       "   'orderID': 'c4940e05-2731-3f3b-0c2f-b1bf40090451',\n",
       "   'orderQty': 100,\n",
       "   'pegOffsetValue': None,\n",
       "   'pegPriceType': '',\n",
       "   'price': 10000.0,\n",
       "   'settlCurrency': 'XBt',\n",
       "   'side': 'Buy',\n",
       "   'simpleCumQty': None,\n",
       "   'simpleLeavesQty': None,\n",
       "   'simpleOrderQty': None,\n",
       "   'stopPx': None,\n",
       "   'symbol': 'XBTUSD',\n",
       "   'text': 'Canceled: Canceled via API.\\nSubmitted via API.',\n",
       "   'timeInForce': 'GoodTillCancel',\n",
       "   'timestamp': datetime.datetime(2020, 9, 11, 8, 58, 40, 798000, tzinfo=tzutc()),\n",
       "   'transactTime': datetime.datetime(2020, 9, 11, 8, 58, 11, 59000, tzinfo=tzutc()),\n",
       "   'triggered': '',\n",
       "   'workingIndicator': False}],\n",
       " <bravado.requests_client.RequestsResponseAdapter at 0x1100f7ac8>)"
      ]
     },
     "execution_count": 63,
     "metadata": {},
     "output_type": "execute_result"
    }
   ],
   "source": [
    "client.Order.Order_cancelAll().result()"
   ]
  },
  {
   "cell_type": "code",
   "execution_count": null,
   "metadata": {},
   "outputs": [],
   "source": [
    "ohlcv_candles = pd.DataFrame(self.client.Trade.Trade_getBucketed(\n",
    "            binSize=self.timeframe,\n",
    "            symbol='XBTUSD',\n",
    "            count=100,\n",
    "            reverse=True\n",
    "        ).result()[0])"
   ]
  }
 ],
 "metadata": {
  "kernelspec": {
   "display_name": "Python 3",
   "language": "python",
   "name": "python3"
  },
  "language_info": {
   "codemirror_mode": {
    "name": "ipython",
    "version": 3
   },
   "file_extension": ".py",
   "mimetype": "text/x-python",
   "name": "python",
   "nbconvert_exporter": "python",
   "pygments_lexer": "ipython3",
   "version": "3.5.6"
  }
 },
 "nbformat": 4,
 "nbformat_minor": 4
}
